{
 "cells": [
  {
   "cell_type": "markdown",
   "id": "4206e576",
   "metadata": {},
   "source": [
    "# Heart Disease Risk Analysis\n",
    "    \n",
    "The contents of this project are as follows.\n",
    "\n",
    "1. Objective\n",
    "2. Introduction to the data\n",
    "3. Data cleaning and processing\n",
    "4. Modeling\n",
    "5. Summary\n",
    "6. Suggestions"
   ]
  },
  {
   "cell_type": "markdown",
   "id": "56cb741e",
   "metadata": {},
   "source": [
    "## Objective\n",
    "\n",
    "The objective of this project is to use deep learning methods to predict whether a person can suffer from a heart attack or not by observing some key health related features. Essentially, this project attempts to classify the patients into groups based on the possible relative likelihood of heart attacks."
   ]
  },
  {
   "cell_type": "markdown",
   "id": "848884d4",
   "metadata": {},
   "source": [
    "## Introduction to the data\n",
    "\n",
    "The data came from a kaggle data set (https://www.kaggle.com/rashikrahmanpritom/heart-attack-analysis-prediction-dataset) and contains features related to predicting heart attacks. The following are the features. There are 303 observations and 14 features."
   ]
  },
  {
   "cell_type": "markdown",
   "id": "d1f58206",
   "metadata": {},
   "source": [
    "age:  age of the patient\n",
    "\n",
    "sex:  sex of the patient (1 = male; 0 = female)\n",
    "\n",
    "exng: exercise induced angina (1 = yes; 0 = no)\n",
    "\n",
    "cas: number of major vessels colorized by flourosopy (0-3)\n",
    "\n",
    "cp: chest Pain type \n",
    "1. : typical angina\n",
    "2. : atypical angina\n",
    "3. : non-anginal pain\n",
    "4. : asymptomatic\n",
    "\n",
    "trtbps: resting blood pressure (in mm Hg) on admission\n",
    "\n",
    "chol: cholestoral in mg/dl\n",
    "\n",
    "fbs: fasting blood sugar > 120 mg/dl (1 = true; 0 = false)\n",
    "\n",
    "rest_ecg : resting electrocardiographic results\n",
    "1. 0 = normal\n",
    "2. 1 = having ST-T wave abnormality\n",
    "3. 3 = showing probable or definite left ventricular hypertrophy\n",
    "\n",
    "thalachh: maximum heart rate achieved\n",
    "\n",
    "oldpeak: ST depression induced by exercise relative to resting\n",
    "\n",
    "slp: slope of the peak exercise ST segment (2 = upsloping; 1 = flat; 0 = downsloping)\n",
    "\n",
    "thal: Thalium stress test result (1 = fixed defect; 2 = normal; 3 = reversible defect)\n",
    "\n",
    "risk: risk of heart attack (0 = less chance of heart attack; 1 = high chance of heart attack)\n",
    "\n",
    "****************\n",
    "\n",
    "The **target feature** is **risk**. Therefore, we are attempting to classifiy observations, using neural network methods, based on whether they are likely to have heart attacks or not.\n",
    "\n",
    "Below, we load some of the essential libraries as well as the data."
   ]
  },
  {
   "cell_type": "code",
   "execution_count": 105,
   "id": "8fbac381",
   "metadata": {},
   "outputs": [],
   "source": [
    "import numpy as np\n",
    "import pandas as pd\n",
    "\n",
    "data = pd.read_csv('heart.csv')"
   ]
  },
  {
   "cell_type": "markdown",
   "id": "eff9fbbd",
   "metadata": {},
   "source": [
    "## Data cleaning and processing\n",
    "\n",
    "\n",
    "Let us look at the data types."
   ]
  },
  {
   "cell_type": "code",
   "execution_count": 106,
   "id": "5b6363c8",
   "metadata": {},
   "outputs": [
    {
     "data": {
      "text/plain": [
       "age           int64\n",
       "sex           int64\n",
       "cp            int64\n",
       "trtbps        int64\n",
       "chol          int64\n",
       "fbs           int64\n",
       "restecg       int64\n",
       "thalachh      int64\n",
       "exng          int64\n",
       "oldpeak     float64\n",
       "slp           int64\n",
       "caa           int64\n",
       "thall         int64\n",
       "risk          int64\n",
       "dtype: object"
      ]
     },
     "execution_count": 106,
     "metadata": {},
     "output_type": "execute_result"
    }
   ],
   "source": [
    "data.dtypes"
   ]
  },
  {
   "cell_type": "markdown",
   "id": "6f0666c1",
   "metadata": {},
   "source": [
    "Based on the above, we see that all the data is in numeric form. Therefore, we do not need to encode them. Let us see whether any data is missing."
   ]
  },
  {
   "cell_type": "code",
   "execution_count": 107,
   "id": "71044bc1",
   "metadata": {},
   "outputs": [
    {
     "data": {
      "text/plain": [
       "age         0\n",
       "sex         0\n",
       "cp          0\n",
       "trtbps      0\n",
       "chol        0\n",
       "fbs         0\n",
       "restecg     0\n",
       "thalachh    0\n",
       "exng        0\n",
       "oldpeak     0\n",
       "slp         0\n",
       "caa         0\n",
       "thall       0\n",
       "risk        0\n",
       "dtype: int64"
      ]
     },
     "execution_count": 107,
     "metadata": {},
     "output_type": "execute_result"
    }
   ],
   "source": [
    "data.isna().sum()"
   ]
  },
  {
   "cell_type": "markdown",
   "id": "6979d931",
   "metadata": {},
   "source": [
    "No data is missing and therefore, this data set is in a relatively clean state."
   ]
  },
  {
   "cell_type": "markdown",
   "id": "501c9a13",
   "metadata": {},
   "source": [
    "\n",
    "### Splitting data\n",
    "\n",
    "We need to split the data into train and validation (test) set as well as features and target."
   ]
  },
  {
   "cell_type": "code",
   "execution_count": 108,
   "id": "3d0dcc2a",
   "metadata": {},
   "outputs": [],
   "source": [
    "from sklearn.model_selection import train_test_split\n",
    "\n",
    "# Split x and y.\n",
    "y = data.risk\n",
    "data.drop(columns='risk', inplace=True)\n",
    "x = data\n",
    "\n",
    "# Split the test and validation sets.\n",
    "x_train, x_test, y_train, y_test = train_test_split(x, y, test_size=0.25, random_state=1)"
   ]
  },
  {
   "cell_type": "markdown",
   "id": "5c1eab4f",
   "metadata": {},
   "source": [
    "\n",
    "### Scaling data"
   ]
  },
  {
   "cell_type": "markdown",
   "id": "aded5164",
   "metadata": {},
   "source": [
    "Scaling the data is a must for any nueral network based method. In this section we will scale the data."
   ]
  },
  {
   "cell_type": "code",
   "execution_count": 109,
   "id": "942941bd",
   "metadata": {},
   "outputs": [],
   "source": [
    "from sklearn.preprocessing import StandardScaler\n",
    "\n",
    "x_train = StandardScaler().fit_transform(x_train)\n",
    "x_test = StandardScaler().fit_transform(x_test)"
   ]
  },
  {
   "cell_type": "markdown",
   "id": "82c3f563",
   "metadata": {},
   "source": [
    "\n",
    "## Modeling\n",
    "\n",
    "The model I use in this project is a **deep neural network** (a vanila neural network without any convolusions or recurrences).\n",
    "\n",
    "The **variations** will include:\n",
    "\n",
    "1. Change the number of hidden layers\n",
    "2. Introduce regularization\n",
    "3. Change the optimizer\n",
    "4. Change the activation function\n",
    "\n",
    "Let us import the required packages and classes."
   ]
  },
  {
   "cell_type": "code",
   "execution_count": 110,
   "id": "2717d359",
   "metadata": {},
   "outputs": [],
   "source": [
    "np.random.seed(1)\n",
    "\n",
    "import tensorflow as tf\n",
    "tf.random.set_random_seed(1)\n",
    "\n",
    "from tensorflow.keras.models  import Sequential\n",
    "from tensorflow.keras.layers import Dense, Dropout\n",
    "from tensorflow.keras.optimizers import Adam, SGD\n",
    "\n",
    "import matplotlib.pyplot as plt\n",
    "import seaborn as sns"
   ]
  },
  {
   "cell_type": "markdown",
   "id": "84e7f4f1",
   "metadata": {},
   "source": [
    "### Neural network 1: basic model\n",
    "\n",
    "This network has the following strucutre.\n",
    "\n",
    "Input > Dense layer > Output (binary)\n",
    "\n",
    "Following are the parameters.\n",
    "\n",
    "1. Hidden layers: 1\n",
    "2. Regularization: none\n",
    "3. Activation: sigmoid\n",
    "4. Optimization: stochastic gradient descent\n"
   ]
  },
  {
   "cell_type": "code",
   "execution_count": 111,
   "id": "0a450b77",
   "metadata": {},
   "outputs": [],
   "source": [
    "nn1 = Sequential([\n",
    "    Dense(10, input_shape=(13, ), activation='sigmoid'),\n",
    "    Dense(1, activation='sigmoid')\n",
    "])\n",
    "\n",
    "nn1.compile(SGD(learning_rate=.001), \n",
    "            loss='binary_crossentropy', metrics=['accuracy'])"
   ]
  },
  {
   "cell_type": "markdown",
   "id": "73538a42",
   "metadata": {},
   "source": [
    "\n",
    "Let us train the model for 750 epochs."
   ]
  },
  {
   "cell_type": "code",
   "execution_count": 112,
   "id": "7cd0df9e",
   "metadata": {},
   "outputs": [],
   "source": [
    "%%capture\n",
    "\n",
    "# Fit.\n",
    "nn1_hist = nn1.fit(x_train, y_train, validation_data=(x_test, y_test), \n",
    "                   epochs=750)"
   ]
  },
  {
   "cell_type": "markdown",
   "id": "171e4d71",
   "metadata": {},
   "source": [
    "\n",
    "Let us plot the training and validation losses for the model."
   ]
  },
  {
   "cell_type": "code",
   "execution_count": 113,
   "id": "fe5ae925",
   "metadata": {},
   "outputs": [
    {
     "data": {
      "image/png": "[encoded data removed]",
      "text/plain": [
       "<Figure size 432x288 with 1 Axes>"
      ]
     },
     "metadata": {
      "needs_background": "light"
     },
     "output_type": "display_data"
    }
   ],
   "source": [
    "fig, ax = plt.subplots()\n",
    "ax.plot(nn1_hist.history[\"loss\"],'r', marker='.', label=\"Train Loss\")\n",
    "ax.plot(nn1_hist.history[\"val_loss\"],'b', marker='.', label=\"Validation Loss\")\n",
    "ax.legend();"
   ]
  },
  {
   "cell_type": "markdown",
   "id": "0512caa0",
   "metadata": {},
   "source": [
    "\n",
    "It appears that the model performs the same for both sets. However, it appears the model would benefit from further training. \n",
    "\n",
    "Let us train for 1500 epochs."
   ]
  },
  {
   "cell_type": "code",
   "execution_count": 114,
   "id": "da965f93",
   "metadata": {},
   "outputs": [],
   "source": [
    "%%capture\n",
    "\n",
    "nn1_hist2 = nn1.fit(x_train, y_train, validation_data=(x_test, y_test), \n",
    "                    epochs=1500)"
   ]
  },
  {
   "cell_type": "code",
   "execution_count": 115,
   "id": "1489abf2",
   "metadata": {},
   "outputs": [
    {
     "data": {
      "image/png": "[encoded data removed]",
      "text/plain": [
       "<Figure size 432x288 with 1 Axes>"
      ]
     },
     "metadata": {
      "needs_background": "light"
     },
     "output_type": "display_data"
    }
   ],
   "source": [
    "fig, ax = plt.subplots()\n",
    "ax.plot(nn1_hist2.history[\"loss\"],'r', marker='.', label=\"Train Loss\")\n",
    "ax.plot(nn1_hist2.history[\"val_loss\"],'b', marker='.', label=\"Validation Loss\")\n",
    "ax.legend();"
   ]
  },
  {
   "cell_type": "markdown",
   "id": "3d388090",
   "metadata": {},
   "source": [
    "\n",
    "As the number of epochs increases, the difference between training and validation loss increases. The validation loss is too large."
   ]
  },
  {
   "cell_type": "markdown",
   "id": "3c1a50c7",
   "metadata": {},
   "source": [
    "### Neural network 2: increasing the number of hidden layers\n",
    "\n",
    "Following are the parameters of this model.\n",
    "\n",
    "1. Hidden layers: 2\n",
    "2. Regularization: none\n",
    "3. Activation: sigmoid\n",
    "4. Optimization: stochastic gradient descent"
   ]
  },
  {
   "cell_type": "code",
   "execution_count": 121,
   "id": "f27bee81",
   "metadata": {},
   "outputs": [],
   "source": [
    "nn2 = Sequential([\n",
    "    Dense(10, input_shape=(13, ), activation='sigmoid'),\n",
    "    Dense(8, activation='sigmoid'),\n",
    "    Dense(1, activation='sigmoid')\n",
    "])\n",
    "\n",
    "nn2.compile(SGD(learning_rate=.001), \n",
    "            loss='binary_crossentropy', metrics=['accuracy'])"
   ]
  },
  {
   "cell_type": "code",
   "execution_count": 122,
   "id": "8cc56f53",
   "metadata": {},
   "outputs": [],
   "source": [
    "%%capture\n",
    "\n",
    "# Fit.\n",
    "nn2_hist = nn2.fit(x_train, y_train, validation_data=(x_test, y_test), \n",
    "                   epochs=750)"
   ]
  },
  {
   "cell_type": "code",
   "execution_count": 123,
   "id": "3f04b297",
   "metadata": {},
   "outputs": [
    {
     "data": {
      "image/png": "[encoded data removed]",
      "text/plain": [
       "<Figure size 432x288 with 1 Axes>"
      ]
     },
     "metadata": {
      "needs_background": "light"
     },
     "output_type": "display_data"
    }
   ],
   "source": [
    "fig, ax = plt.subplots()\n",
    "ax.plot(nn2_hist.history[\"loss\"],'r', marker='.', label=\"Train Loss\")\n",
    "ax.plot(nn2_hist.history[\"val_loss\"],'b', marker='.', label=\"Validation Loss\")\n",
    "ax.legend();"
   ]
  },
  {
   "cell_type": "markdown",
   "id": "117d5092",
   "metadata": {},
   "source": [
    "\n",
    "Let us try training further."
   ]
  },
  {
   "cell_type": "code",
   "execution_count": 124,
   "id": "82204b38",
   "metadata": {},
   "outputs": [],
   "source": [
    "%%capture\n",
    "nn2_hist2 = nn2.fit(x_train, y_train, validation_data=(x_test, y_test), \n",
    "                    epochs=1500)"
   ]
  },
  {
   "cell_type": "code",
   "execution_count": 125,
   "id": "b020717d",
   "metadata": {},
   "outputs": [
    {
     "data": {
      "image/png": "[encoded data removed]",
      "text/plain": [
       "<Figure size 432x288 with 1 Axes>"
      ]
     },
     "metadata": {
      "needs_background": "light"
     },
     "output_type": "display_data"
    }
   ],
   "source": [
    "fig, ax = plt.subplots()\n",
    "ax.plot(nn2_hist2.history[\"loss\"],'r', marker='.', label=\"Train Loss\")\n",
    "ax.plot(nn2_hist2.history[\"val_loss\"],'b', marker='.', label=\"Validation Loss\")\n",
    "ax.legend();"
   ]
  },
  {
   "cell_type": "markdown",
   "id": "af8e26d3",
   "metadata": {},
   "source": [
    "\n",
    "It appears we are overfitting. Therefore, let us try chaning the activation function.\n",
    "\n",
    "### Neural network 3: ReLu as the activation function\n",
    "\n",
    "Network parameters are as follows.\n",
    "\n",
    "1. Hidden layers: 2\n",
    "2. Regularization: none\n",
    "3. Activation: ReLu\n",
    "4. Optimization: stochastic gradient descent\n"
   ]
  },
  {
   "cell_type": "code",
   "execution_count": 128,
   "id": "fa02f5ec",
   "metadata": {},
   "outputs": [],
   "source": [
    "nn3 = Sequential([\n",
    "    Dense(10, input_shape=(13, ), activation='relu'),\n",
    "    Dense(8, activation='relu'),\n",
    "    Dense(1, activation='sigmoid')\n",
    "])\n",
    "\n",
    "nn3.compile(SGD(learning_rate=.001), \n",
    "            loss='binary_crossentropy', metrics=['accuracy'])"
   ]
  },
  {
   "cell_type": "code",
   "execution_count": 129,
   "id": "135f2966",
   "metadata": {},
   "outputs": [],
   "source": [
    "%%capture\n",
    "\n",
    "# Fit.\n",
    "nn3_hist = nn3.fit(x_train, y_train, validation_data=(x_test, y_test), \n",
    "                   epochs=750)"
   ]
  },
  {
   "cell_type": "code",
   "execution_count": 130,
   "id": "1dab1336",
   "metadata": {},
   "outputs": [
    {
     "data": {
      "image/png": "[encoded data removed]",
      "text/plain": [
       "<Figure size 432x288 with 1 Axes>"
      ]
     },
     "metadata": {
      "needs_background": "light"
     },
     "output_type": "display_data"
    }
   ],
   "source": [
    "fig, ax = plt.subplots()\n",
    "ax.plot(nn3_hist.history[\"loss\"],'r', marker='.', label=\"Train Loss\")\n",
    "ax.plot(nn3_hist.history[\"val_loss\"],'b', marker='.', label=\"Validation Loss\")\n",
    "ax.legend();"
   ]
  },
  {
   "cell_type": "markdown",
   "id": "a0521ddd",
   "metadata": {},
   "source": [
    "\n",
    "It is very clear that we are overfitting because the training loss is much lower than the validation loss. We need to use regularization."
   ]
  },
  {
   "cell_type": "markdown",
   "id": "2850a8e9",
   "metadata": {},
   "source": [
    "\n",
    "### Neural network 4: dropout regularization\n",
    "\n",
    "Parameters are as follows:\n",
    "\n",
    "1. Hidden layers: 2\n",
    "2. Regularization: Dropout\n",
    "3. Activation: ReLu\n",
    "4. Optimization: stochastic gradient descent"
   ]
  },
  {
   "cell_type": "code",
   "execution_count": 151,
   "id": "954214cd",
   "metadata": {},
   "outputs": [],
   "source": [
    "%%capture\n",
    "\n",
    "nn4 = Sequential([\n",
    "    Dense(10, input_shape=(13, ), activation='relu'),\n",
    "    Dropout(0.25),\n",
    "    Dense(8, activation='relu'),\n",
    "    Dense(1, activation='sigmoid')\n",
    "])\n",
    "\n",
    "nn4.compile(SGD(learning_rate=.001), \n",
    "            loss='binary_crossentropy', metrics=['accuracy'])\n",
    "\n",
    "# Fit.\n",
    "nn4_hist = nn4.fit(x_train, y_train, validation_data=(x_test, y_test), \n",
    "                   epochs=1500)"
   ]
  },
  {
   "cell_type": "code",
   "execution_count": 152,
   "id": "76edad4d",
   "metadata": {},
   "outputs": [
    {
     "data": {
      "image/png": "[encoded data removed]",
      "text/plain": [
       "<Figure size 432x288 with 1 Axes>"
      ]
     },
     "metadata": {
      "needs_background": "light"
     },
     "output_type": "display_data"
    }
   ],
   "source": [
    "fig, ax = plt.subplots()\n",
    "ax.plot(nn4_hist.history[\"loss\"],'r', marker='.', label=\"Train Loss\")\n",
    "ax.plot(nn4_hist.history[\"val_loss\"],'b', marker='.', label=\"Validation Loss\")\n",
    "ax.legend();"
   ]
  },
  {
   "cell_type": "markdown",
   "id": "108c35ad",
   "metadata": {},
   "source": [
    "\n",
    "This does not appear to have solved the problem. "
   ]
  },
  {
   "cell_type": "markdown",
   "id": "4834c583",
   "metadata": {},
   "source": [
    "\n",
    "### Neural network 5: Adam optimizer\n",
    "\n",
    "We shall use 'adam' as the optimizer. The parameters are as follows.\n",
    "\n",
    "1. Hidden layers: 2\n",
    "2. Regularization: Dropout\n",
    "3. Activation: ReLu\n",
    "4. Optimization: adam\n"
   ]
  },
  {
   "cell_type": "code",
   "execution_count": 212,
   "id": "e0ae7164",
   "metadata": {},
   "outputs": [],
   "source": [
    "%%capture\n",
    "\n",
    "nn5 = Sequential([\n",
    "    Dense(10, input_shape=(13, ), activation='relu'),\n",
    "    Dropout(0.1),\n",
    "    Dense(8, activation='relu'),\n",
    "    Dense(1, activation='sigmoid')\n",
    "])\n",
    "\n",
    "nn5.compile(Adam(learning_rate=.0001), \n",
    "            loss='binary_crossentropy', metrics=['accuracy'])\n",
    "\n",
    "# Fit.\n",
    "nn5_hist = nn5.fit(x_train, y_train, validation_data=(x_test, y_test), \n",
    "                   epochs=600)"
   ]
  },
  {
   "cell_type": "code",
   "execution_count": 215,
   "id": "9f82d6b5",
   "metadata": {},
   "outputs": [
    {
     "data": {
      "image/png": "[encoded data removed]",
      "text/plain": [
       "<Figure size 432x288 with 1 Axes>"
      ]
     },
     "metadata": {
      "needs_background": "light"
     },
     "output_type": "display_data"
    }
   ],
   "source": [
    "fig, ax = plt.subplots()\n",
    "ax.plot(nn5_hist.history[\"acc\"],'r', linestyle=':', label=\"Training Accuracy\")\n",
    "ax.plot(nn5_hist.history[\"val_acc\"],'b', marker='.', label=\"Validation Accuracy\")\n",
    "ax.legend();"
   ]
  },
  {
   "cell_type": "code",
   "execution_count": 214,
   "id": "736a9149",
   "metadata": {},
   "outputs": [
    {
     "data": {
      "image/png": "[encoded data removed]",
      "text/plain": [
       "<Figure size 432x288 with 1 Axes>"
      ]
     },
     "metadata": {
      "needs_background": "light"
     },
     "output_type": "display_data"
    }
   ],
   "source": [
    "fig, ax = plt.subplots()\n",
    "ax.plot(nn5_hist.history[\"loss\"],'r', linestyle=':', label=\"Train Loss\")\n",
    "ax.plot(nn5_hist.history[\"val_loss\"],'b', marker='.', label=\"Validation Loss\")\n",
    "ax.legend();"
   ]
  },
  {
   "cell_type": "markdown",
   "id": "f0a803a3",
   "metadata": {},
   "source": [
    "\n",
    "## Summary\n",
    "\n",
    "Network 2 with about 250 epochs of training provided the best agreement in terms of training and testing loss compatibilitiy. Regularization (dropout) was able to lower the gap to some extent. Changing the optimizer did not aid in solving the problems.\n",
    "\n",
    "Therefore, network 2 is the best model based on this short project.\n",
    "\n",
    "## Suggestions\n",
    "\n",
    "None of the models were ables to provide a suitable compatible training and validation accuracy. It appears, a neural network based approach for this data set is an overkill. Therefore, sticking to classification based methods seems better. \n",
    "\n",
    "The test set seems too small and if we could increase the entire data set, it would be much better."
   ]
  }
 ],
 "metadata": {
  "kernelspec": {
   "display_name": "Python 3",
   "language": "python",
   "name": "python3"
  },
  "language_info": {
   "codemirror_mode": {
    "name": "ipython",
    "version": 3
   },
   "file_extension": ".py",
   "mimetype": "text/x-python",
   "name": "python",
   "nbconvert_exporter": "python",
   "pygments_lexer": "ipython3",
   "version": "3.6.9"
  }
 },
 "nbformat": 4,
 "nbformat_minor": 5
}
